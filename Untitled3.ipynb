{
 "cells": [
  {
   "cell_type": "code",
   "execution_count": 33,
   "metadata": {},
   "outputs": [
    {
     "name": "stdout",
     "output_type": "stream",
     "text": [
      "[9, 8, 7, 90]\n",
      "[9, 8, 7, 90, 'xx', 'mm', 90.9, 8, 9]\n",
      "[9, 8, 7, 'hello', 90, 'xx', 'mm', 90.9, 8, 9]\n",
      "[9, 8, 7, 'hello', [10, 20, 30, 40], 90, 'xx', 'mm', 90.9, 8, 9]\n",
      "[9, 8, 90.9, 'mm', 'xx', 90, [10, 20, 30, 40], 'hello', 7, 8, 9]\n"
     ]
    }
   ],
   "source": [
    "L=[9,8,7]\n",
    "L.append(90)\n",
    "print(L)\n",
    "L1=[\"xx\",\"mm\",90.9,8,9]\n",
    "#L.append(L1)\n",
    "#print(L)\n",
    "\n",
    "L.extend(L1)\n",
    "print(L)\n",
    "\n",
    "L.insert(3,\"hello\")\n",
    "print(L)\n",
    "L.insert(4,[10,20,30,40])\n",
    "print(L)\n",
    "\n",
    "L.reverse()\n",
    "print(L)\n",
    "\n",
    "\n"
   ]
  },
  {
   "cell_type": "code",
   "execution_count": 37,
   "metadata": {},
   "outputs": [
    {
     "name": "stdout",
     "output_type": "stream",
     "text": [
      "[10, 9, 8, 7, 6, 5, 4, 3, 2, 1]\n",
      "[10, 9, 8, 7, 6, 5, 4, 3, 2, 1]\n"
     ]
    }
   ],
   "source": [
    "#L=list(range(10,0,-1))\n",
    "#print(L)\n",
    "#L.reverse()\n",
    "#print(L)\n",
    "\n",
    "L=list(range(10,0,-1))\n",
    "print(L)\n",
    "L.sort(reverse=1)\n",
    "print(L)\n",
    "\n",
    "\n",
    "\n"
   ]
  },
  {
   "cell_type": "code",
   "execution_count": null,
   "metadata": {},
   "outputs": [],
   "source": [
    "\n",
    "    \n"
   ]
  },
  {
   "cell_type": "code",
   "execution_count": null,
   "metadata": {},
   "outputs": [],
   "source": []
  },
  {
   "cell_type": "code",
   "execution_count": 50,
   "metadata": {},
   "outputs": [
    {
     "name": "stdout",
     "output_type": "stream",
     "text": [
      "76\n",
      "9\n",
      "1\n",
      "[1, 1, 2, 3, 3, 4, 4, 5, 5, 5, 6, 6, 7, 7, 8, 9]\n",
      "[9, 8, 7, 7, 6, 6, 5, 5, 5, 4, 4, 3, 3, 2, 1, 1]\n",
      "[9, 8, 7, 7, 6, 6, 5, 5, 5, 4, 4, 3, 3, 2, 1, 1]\n",
      "16\n",
      "3\n"
     ]
    }
   ],
   "source": [
    "L=[1,3,5,3,6,5,7,8,5,6,7,4,2,1,9,4]\n",
    "print(sum(L))\n",
    "print(max(L))\n",
    "print(min(L))\n",
    "print(sorted(L))\n",
    "print(sorted(L,reverse=1))\n",
    "print(sorted(L,reverse=True))\n",
    "print(len(L))\n",
    "print(L.count(5))\n"
   ]
  },
  {
   "cell_type": "code",
   "execution_count": 49,
   "metadata": {},
   "outputs": [
    {
     "name": "stdout",
     "output_type": "stream",
     "text": [
      "[10, 20, 30, 40, 50, 60]\n",
      "[]\n",
      "[10, 20, 30, 40, 50]\n",
      "[10, 20, 30, 40]\n",
      "[10, 20, 30, 50, 60]\n",
      "[20, 30, 50, 60]\n"
     ]
    },
    {
     "ename": "NameError",
     "evalue": "name 'L' is not defined",
     "output_type": "error",
     "traceback": [
      "\u001b[1;31m---------------------------------------------------------------------------\u001b[0m",
      "\u001b[1;31mNameError\u001b[0m                                 Traceback (most recent call last)",
      "\u001b[1;32m<ipython-input-49-341a2ffb5b32>\u001b[0m in \u001b[0;36m<module>\u001b[1;34m\u001b[0m\n\u001b[0;32m     17\u001b[0m \u001b[1;33m\u001b[0m\u001b[0m\n\u001b[0;32m     18\u001b[0m \u001b[1;32mdel\u001b[0m \u001b[0mL\u001b[0m\u001b[1;33m\u001b[0m\u001b[1;33m\u001b[0m\u001b[0m\n\u001b[1;32m---> 19\u001b[1;33m \u001b[0mprint\u001b[0m\u001b[1;33m(\u001b[0m\u001b[0mL\u001b[0m\u001b[1;33m)\u001b[0m\u001b[1;33m\u001b[0m\u001b[1;33m\u001b[0m\u001b[0m\n\u001b[0m\u001b[0;32m     20\u001b[0m \u001b[1;33m\u001b[0m\u001b[0m\n\u001b[0;32m     21\u001b[0m \u001b[1;33m\u001b[0m\u001b[0m\n",
      "\u001b[1;31mNameError\u001b[0m: name 'L' is not defined"
     ]
    }
   ],
   "source": [
    "L=[10,20,30,40,50,60]\n",
    "P=L.copy()\n",
    "print(P)\n",
    "L.clear()\n",
    "print(L)\n",
    "L=[10,20,30,40,50,60]\n",
    "L.pop()\n",
    "print(L)\n",
    "L.pop(4)\n",
    "print(L)\n",
    "L=[10,20,30,\"hello\",50,60]\n",
    "L.remove(\"hello\")  # show error if not in list\n",
    "print(L)\n",
    "\n",
    "del(L[0])\n",
    "print(L)\n",
    "\n",
    "del L\n",
    "print(L)\n",
    "\n",
    "\n",
    "\n"
   ]
  },
  {
   "cell_type": "code",
   "execution_count": 60,
   "metadata": {},
   "outputs": [
    {
     "name": "stdout",
     "output_type": "stream",
     "text": [
      "[1, 2, 3, 'Hello', 5, 6, 7, 8, 9, 10]\n",
      "['Hello', 5, 6, 7, 8, 9, 10]\n",
      "['Hello', 5, 6]\n",
      "[10, 9, 8, 7, 6, 5]\n",
      "[10, 9, 8, 7, 6, 5, 'Hello', 3, 2, 1]\n",
      "[10]\n"
     ]
    }
   ],
   "source": [
    "L=list(range(1,11))\n",
    "L[3]=\"Hello\"\n",
    "print(L)\n",
    "print(L[3:])\n",
    "print(L[3:6])\n",
    "print(L[-1:-7:-1])\n",
    "print(L[-1::-1])\n",
    "print(L[-1:])\n",
    "\n",
    "\n",
    "\n"
   ]
  },
  {
   "cell_type": "code",
   "execution_count": null,
   "metadata": {},
   "outputs": [],
   "source": []
  }
 ],
 "metadata": {
  "kernelspec": {
   "display_name": "Python 3",
   "language": "python",
   "name": "python3"
  },
  "language_info": {
   "codemirror_mode": {
    "name": "ipython",
    "version": 3
   },
   "file_extension": ".py",
   "mimetype": "text/x-python",
   "name": "python",
   "nbconvert_exporter": "python",
   "pygments_lexer": "ipython3",
   "version": "3.7.3"
  }
 },
 "nbformat": 4,
 "nbformat_minor": 2
}
